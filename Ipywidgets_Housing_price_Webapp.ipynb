{
 "cells": [
  {
   "cell_type": "markdown",
   "id": "9bb16e82",
   "metadata": {},
   "source": [
    "## Data Driven Web Application Project 1\n",
    "## Harshit Shrimali"
   ]
  },
  {
   "cell_type": "markdown",
   "id": "073f8e0e",
   "metadata": {},
   "source": [
    "## Kings County House price Analysis"
   ]
  },
  {
   "cell_type": "code",
   "execution_count": 1,
   "id": "316de2bb",
   "metadata": {},
   "outputs": [],
   "source": [
    "import pandas as pd\n",
    "import numpy as np\n",
    "import matplotlib.pyplot as plt\n",
    "import seaborn as sns\n",
    "import folium\n",
    "from folium import Choropleth, Circle, Marker\n",
    "from folium.plugins import HeatMap, MarkerCluster\n",
    "from pandas.plotting import scatter_matrix\n",
    "from ipywidgets import Accordion, Button, Dropdown, FileUpload, HBox, Image, Output, Tab, VBox, Layout,Text\n",
    "from PIL import Image as PilImage, ImageOps\n",
    "from skimage import color\n",
    "from IPython.display import clear_output\n",
    "from sklearn.model_selection import train_test_split\n",
    "from sklearn.preprocessing import StandardScaler\n",
    "from sklearn.ensemble import RandomForestRegressor\n",
    "import ipywidgets as widgets\n",
    "from IPython.display import display"
   ]
  },
  {
   "cell_type": "code",
   "execution_count": 2,
   "id": "d908f24c",
   "metadata": {},
   "outputs": [],
   "source": [
    "data= pd.read_csv('HousingPrices.csv')"
   ]
  },
  {
   "cell_type": "code",
   "execution_count": 3,
   "id": "ad445db9",
   "metadata": {},
   "outputs": [],
   "source": [
    "#drop inappropriate Columns from dataFrame\n",
    "data=data.drop(['id','date'], axis=1)"
   ]
  },
  {
   "cell_type": "code",
   "execution_count": 4,
   "id": "a930ba05",
   "metadata": {},
   "outputs": [],
   "source": [
    "data['bathrooms'] = data['bathrooms'].round()\n",
    "data['floors']= data['floors'].round()\n",
    "data = data.astype({\"bathrooms\":'int', \"floors\":'int'})"
   ]
  },
  {
   "cell_type": "code",
   "execution_count": 5,
   "id": "0ef87122",
   "metadata": {},
   "outputs": [],
   "source": [
    "df = data.groupby(['zipcode']).mean()"
   ]
  },
  {
   "cell_type": "code",
   "execution_count": 6,
   "id": "129a71f8",
   "metadata": {},
   "outputs": [],
   "source": [
    "df = df[['lat','long']]\n",
    "df.columns = ['latitude', 'longitude']"
   ]
  },
  {
   "cell_type": "code",
   "execution_count": 7,
   "id": "b6adbf33",
   "metadata": {},
   "outputs": [],
   "source": [
    "df = df.reset_index()"
   ]
  },
  {
   "cell_type": "code",
   "execution_count": 8,
   "id": "7f654f9b",
   "metadata": {},
   "outputs": [],
   "source": [
    "zipcode = data['zipcode'].unique()\n",
    "zipcode.sort()"
   ]
  },
  {
   "cell_type": "code",
   "execution_count": 9,
   "id": "3f1086d2",
   "metadata": {},
   "outputs": [],
   "source": [
    "location = {}\n",
    "for i in range(len(df)):\n",
    "    location[df['zipcode'][i]] = [df['latitude'][i],df['longitude'][i]]"
   ]
  },
  {
   "cell_type": "code",
   "execution_count": 13,
   "id": "6fc4039f",
   "metadata": {},
   "outputs": [
    {
     "data": {
      "text/plain": [
       "1    10680\n",
       "2    10312\n",
       "3      613\n",
       "4        8\n",
       "Name: floors, dtype: int64"
      ]
     },
     "execution_count": 13,
     "metadata": {},
     "output_type": "execute_result"
    }
   ],
   "source": [
    "data['floors'].value_counts()"
   ]
  },
  {
   "cell_type": "code",
   "execution_count": null,
   "id": "4da65d96",
   "metadata": {},
   "outputs": [],
   "source": [
    "map = folium.Map(location=location[Zipcod_select], tiles='openstreetmap', zoom_start=8)\n",
    "    for idx, row in dat[(dat.bedrooms == 2) & ((dat.bathrooms >= 1) & (dat.bathrooms < (1+1))) & (dat.condition == Condition_select) & ((dat.floors == Floors_select))].iterrows():\n",
    "        Marker([row['lat'], row['long']]).add_to(map)\n",
    "        popup_text = \"Price: {}, Sqft: {}, Condition:{}, Beds: {}, Baths: {}, Floors: {}\".format(row['price'],row['sqft_living'],row['condition'], row['bedrooms'],row['floors'],row['bathrooms'])\n",
    "        popup = folium.Popup(popup_text, parse_html=True)\n",
    "        marker = folium.Marker([row['lat'], row['long']], popup=popup).add_to(map)\n",
    "display(map)"
   ]
  },
  {
   "cell_type": "code",
   "execution_count": 10,
   "id": "14ff58d1",
   "metadata": {},
   "outputs": [
    {
     "data": {
      "application/vnd.jupyter.widget-view+json": {
       "model_id": "62b739b8468e45698db875c7770c4c4a",
       "version_major": 2,
       "version_minor": 0
      },
      "text/plain": [
       "VBox(children=(HBox(children=(Button(description='Features Plot', style=ButtonStyle(button_color='lightyellow'…"
      ]
     },
     "metadata": {},
     "output_type": "display_data"
    }
   ],
   "source": [
    "Map_button = widgets.Button(description='House Maps')\n",
    "Map_button.style.button_color = 'lightblue'\n",
    "House_graph = widgets.Button(description = 'Features Plot')\n",
    "House_graph.style.button_color = 'lightyellow'\n",
    "House_Price_Estimate = Button(description = 'Predict House Price')\n",
    "House_Price_Estimate.style.button_color = 'lightgreen'\n",
    "out=widgets.Output()\n",
    "header1 = widgets.HBox([House_graph,Map_button,House_Price_Estimate])\n",
    "display(widgets.VBox([header1,out]))\n",
    "\n",
    "@out.capture()\n",
    "def house():\n",
    "    button = widgets.Button(description='Show Analysis',button_style = 'success')\n",
    "    house_zip = widgets.Dropdown(description='ZipCode',options= [str(x) for x in zipcode])\n",
    "    out1=widgets.Output()\n",
    "    header2 = widgets.HBox([house_zip,button])\n",
    "    display(widgets.VBox([header2,out1]))\n",
    "    @out1.capture()\n",
    "    def graph():\n",
    "        dat = data[(data.zipcode == int(house_zip.value))][['price','yr_built']]\n",
    "        da = (dat.groupby(['yr_built']).mean())\n",
    "        da = da.reset_index()\n",
    "        fig, ax = plt.subplots(2,2,figsize=(30,20));\n",
    "        ax = plt.subplot(2,2,(1,2))\n",
    "        axes = plt.gca()\n",
    "        axes.set_xlim([1900,2020])\n",
    "        ax.set_xticks(np.arange(1900, 2015,5.0))\n",
    "        ax.set_title(\"Avg. Price as per build Year and No. of houses built per year\", fontsize = 18)\n",
    "        ax.set_xlabel('Year Built', fontsize=14)\n",
    "        ax.set_ylabel('Average Price', fontsize=14)\n",
    "        ax.plot(da['yr_built'],da['price'],'black',marker='o')\n",
    "        for x,y in zip(da['yr_built'],da['price']):\n",
    "            label = '{0:.2f} m'.format(y/1e6)\n",
    "            plt.annotate(label,(x,y),textcoords=\"offset points\",xytext=(0,10),ha='center',fontsize = 8)\n",
    "        ax2 = ax.twinx()\n",
    "        c = sns.histplot(dat['yr_built'],bins = len(dat['yr_built']))\n",
    "        c.set_ylabel('Count of Houses', fontsize = 15)\n",
    "        plt.subplot(2,2,3)\n",
    "        plt.title(\"Bedroom Count Plot\", fontsize = 18)\n",
    "        a = sns.countplot(x= 'bedrooms', data=data[(data.zipcode == int(house_zip.value))])\n",
    "        for container in a.containers:\n",
    "            a.bar_label(container, fontsize = 12)\n",
    "        a.set_xlabel('Bedrooms', fontsize = 15)\n",
    "        a.set_ylabel('Count of Houses', fontsize = 15)\n",
    "        a.set_xticklabels(a.get_xticks(), size = 15)\n",
    "        plt.subplot(2,2,4)\n",
    "        plt.title(\"Bathroom Count Plot\", fontsize = 18)\n",
    "        b= sns.countplot(x= 'bathrooms', data=data[(data.zipcode == int(house_zip.value))])\n",
    "        for container in b.containers:\n",
    "            b.bar_label(container, fontsize = 12)\n",
    "        b.set_xlabel('Bathrooms', fontsize = 15)\n",
    "        b.set_ylabel('Count of Houses', fontsize = 15)\n",
    "        b.set_xticklabels(b.get_xticks(), size = 15)\n",
    "        display(fig)\n",
    "        plt.close(fig)\n",
    "        \n",
    "    def on_button_clicked(btn):\n",
    "        out1.clear_output()\n",
    "        graph()\n",
    "            \n",
    "    button.on_click(on_button_clicked)\n",
    "    \n",
    "@out.capture()    \n",
    "def house_map(): \n",
    "    choice_zip = Dropdown(description='ZipCode',options= [str(x) for x in zipcode])\n",
    "    No_Bed = Dropdown(description='No. Bedrooms',options= ['1','2','3','4','5'])\n",
    "    No_Bath = Dropdown(description='No. Bathrooms',options= ['1','2','3'])\n",
    "    No_Floors = Dropdown(description='No. Floors',options= ['1','2','3'])\n",
    "    Condition = Dropdown(description='condition',options= ['1','2','3','4','5'])\n",
    "    apply_button = Button(description='Map',button_style = 'success')\n",
    "    out2= widgets.Output()\n",
    "    header = HBox([choice_zip,No_Bed,No_Bath,No_Floors,Condition])\n",
    "    display(widgets.VBox([header,apply_button,out2]))\n",
    "    @out2.capture()\n",
    "    def on_apply():\n",
    "        map = folium.Map(location=location[int(choice_zip.value)], tiles='openstreetmap', zoom_start=11)\n",
    "        for idx, row in data[(data.zipcode == int(choice_zip.value)) & (data.bedrooms == int(No_Bed.value)) & ((data.bathrooms >= int(No_Bath.value)) & (data.bathrooms < (int(No_Bath.value)+1))) & (data.condition == int(Condition.value)) & ((data.floors >= int(No_Floors.value)) & (data.floors < (int(No_Floors.value)+1)))].iterrows():\n",
    "            Marker([row['lat'], row['long']]).add_to(map)\n",
    "            popup_text = \"Price: {}, Sqft: {}, Condition:{}, Beds: {}, Baths: {}, Floors: {}\".format(row['price'],row['sqft_living'],row['condition'], row['bedrooms'],row['floors'],row['bathrooms'])\n",
    "            popup = folium.Popup(popup_text, parse_html=True)\n",
    "            marker = folium.Marker([row['lat'], row['long']], popup=popup).add_to(map)\n",
    "        display(map)\n",
    "    \n",
    "    def Map_button(btn):\n",
    "        out2.clear_output()\n",
    "        on_apply()\n",
    "        \n",
    "    apply_button.on_click(Map_button)\n",
    "\n",
    "@out.capture()    \n",
    "def price_estimate():\n",
    "    Price_prdiction = Button(description = 'Check Price',button_style = 'success')\n",
    "    choice_zip1 = Dropdown(description='ZipCode',options= [str(x) for x in zipcode])\n",
    "    No_Bed1 = Dropdown(description='No. Bedrooms',options= ['1','2','3','4','5'])\n",
    "    No_Bath1 = Dropdown(description='No. Bathrooms',options= ['1','2','3','4'])\n",
    "    No_Floors1 = Dropdown(description='No. Floors',options= ['1','2','3'])\n",
    "    View = Dropdown(description='View',options= ['0','1','2','3','4'])\n",
    "    Condition1 = Dropdown(description='Condition',options= ['1','2','3','4','5'])\n",
    "    Grade = Dropdown(description='House Grade',options= ['4','5','6','7','8','9','10','11','12'])\n",
    "    area_living = Text(description='Area',placeholder='Enter area in Square feet')\n",
    "    out3 = widgets.Output()\n",
    "    h1 = HBox([choice_zip1,No_Bed1,No_Bath1,No_Floors1])\n",
    "    h2 = HBox([View,Condition1,Grade])\n",
    "    h3 = HBox([area_living,Price_prdiction])\n",
    "    display(widgets.VBox([h1,h2,h3,out3]))\n",
    "    \n",
    "    @out3.capture()\n",
    "    def pred_price():\n",
    "        df1 = data[['price', 'bedrooms', 'bathrooms', 'sqft_living', 'floors','view', 'condition', 'grade','zipcode']]\n",
    "        npr= df1['price'].quantile(0.98)\n",
    "        npr2 = df1['price'].quantile(0.02)\n",
    "        df1 = df1[(df1['price'] <= npr) & (df1['price'] >= npr2)]\n",
    "        x = df1.iloc[: , 1:].values\n",
    "        y = df1.iloc[: , 0].values\n",
    "        x_train,x_test,y_train,y_test=train_test_split(x, y, test_size=0.25, random_state=42)\n",
    "        sc=StandardScaler()\n",
    "        x_train=sc.fit_transform(x_train)\n",
    "        x_test=sc.transform(x_test)\n",
    "        RDregressor = RandomForestRegressor(n_estimators= 350, random_state=42)\n",
    "        RDregressor.fit(x_train, y_train)\n",
    "        Rd_pred = RDregressor.predict([[int(No_Bed1.value),int(No_Bath1.value),int(area_living.value),int(No_Floors1.value),int(View.value),int(Condition1.value),int(Grade.value),int(choice_zip1.value)]])\n",
    "        Rd_pred = Rd_pred.item(0)\n",
    "        print(f\"House price will be around {Rd_pred:.2f}$\")\n",
    "        \n",
    "    def predit_on_click(btn):\n",
    "        out3.clear_output()\n",
    "        pred_price()\n",
    "\n",
    "    Price_prdiction.on_click(predit_on_click)\n",
    "    \n",
    "    \n",
    "\n",
    "def house_on_click(btn):\n",
    "    out.clear_output()\n",
    "    house()\n",
    "    \n",
    "def Map_on_click(btn):\n",
    "    out.clear_output()\n",
    "    house_map()\n",
    "    \n",
    "def price_on_click(btn):\n",
    "    out.clear_output()\n",
    "    price_estimate()\n",
    "    \n",
    "\n",
    "House_graph.on_click(house_on_click)\n",
    "Map_button.on_click(Map_on_click)\n",
    "House_Price_Estimate.on_click(price_on_click)"
   ]
  },
  {
   "cell_type": "code",
   "execution_count": null,
   "id": "9e3eb378",
   "metadata": {},
   "outputs": [],
   "source": []
  },
  {
   "cell_type": "code",
   "execution_count": null,
   "id": "2bada476",
   "metadata": {},
   "outputs": [],
   "source": []
  }
 ],
 "metadata": {
  "kernelspec": {
   "display_name": "Python 3 (ipykernel)",
   "language": "python",
   "name": "python3"
  },
  "language_info": {
   "codemirror_mode": {
    "name": "ipython",
    "version": 3
   },
   "file_extension": ".py",
   "mimetype": "text/x-python",
   "name": "python",
   "nbconvert_exporter": "python",
   "pygments_lexer": "ipython3",
   "version": "3.9.12"
  }
 },
 "nbformat": 4,
 "nbformat_minor": 5
}
